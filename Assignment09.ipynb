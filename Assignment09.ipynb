{
 "cells": [
  {
   "cell_type": "markdown",
   "metadata": {},
   "source": [
    "### 20143692_KangKyeungseok\n",
    "### Machine Learning Assignment 10\n",
    "### Build a binary classifier for each digit against all the other digits at MNIST dataset."
   ]
  },
  {
   "cell_type": "code",
   "execution_count": 25,
   "metadata": {},
   "outputs": [],
   "source": [
    "import numpy as np\n",
    "\n",
    "file_data_train = \"mnist_train.csv\"\n",
    "file_data_test  = \"mnist_test.csv\"\n",
    "\n",
    "h_data_train    = open(file_data_train, \"r\")\n",
    "h_data_test     = open(file_data_test, \"r\")\n",
    "\n",
    "data_train      = h_data_train.readlines()\n",
    "data_test       = h_data_test.readlines()\n",
    "\n",
    "h_data_train.close()\n",
    "h_data_test.close()\n",
    "\n",
    "size_row    = 28    # height of the image\n",
    "size_col    = 28    # width of the image\n",
    "\n",
    "num_train   = len(data_train)   # number of training images\n",
    "num_test    = len(data_test)    # number of testing images"
   ]
  },
  {
   "cell_type": "code",
   "execution_count": 26,
   "metadata": {},
   "outputs": [],
   "source": [
    "p = np.array([125, 625])"
   ]
  },
  {
   "cell_type": "code",
   "execution_count": 27,
   "metadata": {},
   "outputs": [],
   "source": [
    "\n",
    "def f(x, p_r, r):\n",
    "    \n",
    "    y = np.empty(p_r, dtype=float)\n",
    "\n",
    "    for i in range(0, p_r):\n",
    "        y[i] = np.dot(r[i].T, x)\n",
    "    \n",
    "    return y"
   ]
  },
  {
   "cell_type": "code",
   "execution_count": 28,
   "metadata": {},
   "outputs": [],
   "source": [
    "def argmax(x):\n",
    "    \n",
    "    max_x = -9999\n",
    "    \n",
    "    idx = 0\n",
    "    \n",
    "    for i in range(0, 10):\n",
    "        if(max_x < x[i]):\n",
    "            max_x = x[i]\n",
    "            idx = i\n",
    "            \n",
    "    return idx"
   ]
  },
  {
   "cell_type": "code",
   "execution_count": 29,
   "metadata": {},
   "outputs": [],
   "source": [
    "def normalize(data):\n",
    "\n",
    "    data_normalized = (data - min(data)) / (max(data) - min(data))\n",
    "\n",
    "    return(data_normalized)"
   ]
  },
  {
   "cell_type": "code",
   "execution_count": 30,
   "metadata": {},
   "outputs": [],
   "source": [
    "\n",
    "list_image_train    = np.empty((size_row * size_col, num_train), dtype=float)\n",
    "list_label_train    = np.empty(num_train, dtype=int)\n",
    "\n",
    "list_image_test     = np.empty((size_row * size_col, num_test), dtype=float)\n",
    "list_label_test     = np.empty(num_test, dtype=int)"
   ]
  },
  {
   "cell_type": "code",
   "execution_count": 31,
   "metadata": {},
   "outputs": [],
   "source": [
    "def get_optimal(select,p, n, r):\n",
    "    count = 0\n",
    "    for line in data_train:\n",
    "\n",
    "        line_data   = line.split(',')\n",
    "        label       = line_data[0]\n",
    "        im_vector   = np.asfarray(line_data[1:])\n",
    "        im_vector   = normalize(im_vector)\n",
    "\n",
    "        if(label == str(select)):\n",
    "            list_label_train[count] = 1\n",
    "        else :\n",
    "                list_label_train[count] = -1\n",
    "\n",
    "        list_image_train[:, count]  = im_vector \n",
    "\n",
    "        count += 1\n",
    "    \n",
    "    A = np.empty((num_train,p[n]), dtype=float)\n",
    "\n",
    "    for i in range(0, num_train):\n",
    "        A[i] = f(list_image_train[:,i], p[n], r)\n",
    "        \n",
    "    optimal = np.dot(np.dot(np.linalg.inv(np.dot(A.T,A)),A.T),list_label_train[:])\n",
    "    \n",
    "    return optimal"
   ]
  },
  {
   "cell_type": "code",
   "execution_count": 32,
   "metadata": {},
   "outputs": [],
   "source": [
    "count = 0\n",
    "\n",
    "for line in data_test:\n",
    "\n",
    "    line_data   = line.split(',')\n",
    "    label       = line_data[0]\n",
    "    im_vector   = np.asfarray(line_data[1:])\n",
    "    im_vector   = normalize(im_vector)\n",
    "\n",
    "    for j in range(0, 10):\n",
    "        if(label == str(j)):\n",
    "            list_label_test[count] = j\n",
    "        \n",
    "    list_image_test[:, count]   = im_vector    \n",
    "\n",
    "    count += 1"
   ]
  },
  {
   "cell_type": "code",
   "execution_count": 43,
   "metadata": {},
   "outputs": [
    {
     "name": "stdout",
     "output_type": "stream",
     "text": [
      "Compute an optimal model parameter using the training dataset for each classifier f_d(x, w)\n",
      "[[   0   82    0    0    0    0    0    0    0    0]\n",
      " [   0   87    0    0    0    0    0    0    0    0]\n",
      " [   0   49    0    0    0    0    0    0    0    0]\n",
      " [   0  110    0    0    0    0    0    0    0    0]\n",
      " [   0  392    0    0    0    0    0    0    0    0]\n",
      " [   0   29    0    0    0    0    0    0    0    0]\n",
      " [   0   14    0    0    0    0    0    0    0    0]\n",
      " [   0  460    0    0    0    0    0    0    0    0]\n",
      " [   0   57    0    0    0    0    0    0    0    0]\n",
      " [   0 4669    0    0    0    0    0    0    0    0]]\n",
      " Compute (1) true positive rate, (2) error rate using (1) training dataset\n",
      "(1) true positive rate: 0.515\\(2) error rate: 0.985\n"
     ]
    }
   ],
   "source": [
    "\n",
    "for n in range(0, 1):\n",
    "    \n",
    "    c_m = np.zeros((10, 10), dtype=int)\n",
    "    \n",
    "    r = np.random.normal(0, 1, (p[n],size_row*size_col))\n",
    "    \n",
    "    optimal = np.empty((10,p[n]),dtype=float)\n",
    "    \n",
    "    for i in range(0, 10):\n",
    "        optimal[i] = get_optimal(i, p, n, r)\n",
    "        \n",
    "\n",
    "    X = np.empty((num_train, p[n]), dtype=float)\n",
    "    \n",
    "    for i in range(0, num_train):\n",
    "        X[i] = f(list_image_train[:,i], p[n],r)\n",
    "        \n",
    "    tp = 0\n",
    "    fp = 0\n",
    "    fn = 0\n",
    "    tn = 0\n",
    "    \n",
    "    for i in range(0, num_train) :\n",
    "        \n",
    "        guesses = np.zeros(10, dtype=float)\n",
    "        \n",
    "        for j in range(0, 10):\n",
    "            guesses[j] = np.dot(X[i], optimal[j].T)\n",
    "            \n",
    "        guess = argmax(guesses)\n",
    "            \n",
    "        for l in range(0, 10):\n",
    "            for k in range(0, 10):\n",
    "                if(guess == l and list_label_train[i] == k):\n",
    "                    c_m[l][k] = c_m[l][k] + 1\n",
    "                    if(l == k):\n",
    "                        tp = tp + 1\n",
    "                    elif(l > k):\n",
    "                        fp = fp + 1\n",
    "                    elif(l < k):\n",
    "                        fn = fn + 1\n",
    "    print(\"Compute an optimal model parameter using the training dataset for each classifier f_d(x, w)\")                    \n",
    "    print(c_m)\n",
    "    print(\" Compute (1) true positive rate, (2) error rate using (1) training dataset\")\n",
    "    print(\"(1) true positive rate: {:.3f}\\(2) error rate: {:.3f}\".format((tp/(tp+fn)),(fn+fp)/(tp+fp+tn+fn)))\n",
    "\n"
   ]
  },
  {
   "cell_type": "code",
   "execution_count": 44,
   "metadata": {},
   "outputs": [
    {
     "name": "stdout",
     "output_type": "stream",
     "text": [
      " Compute (1) true positive rate, (2) error rate using (2) testing dataset\n",
      "(1) true positive rate: 0.898\\(2) error rate: 0.164\n"
     ]
    }
   ],
   "source": [
    "for n in range(0, 1):\n",
    "    \n",
    "    c_m = np.zeros((10, 10), dtype=int)\n",
    "    \n",
    "    r = np.random.normal(0, 1, (p[n],size_row*size_col))\n",
    "    \n",
    "    optimal = np.empty((10,p[n]),dtype=float)\n",
    "    \n",
    "    for i in range(0, 10):\n",
    "        optimal[i] = get_optimal(i, p, n, r)\n",
    "        \n",
    "\n",
    "    X = np.empty((num_test, p[n]), dtype=float)\n",
    "    \n",
    "    for i in range(0, num_test):\n",
    "        X[i] = f(list_image_test[:,i], p[n],r)\n",
    "        \n",
    "    tp = 0\n",
    "    fp = 0\n",
    "    fn = 0\n",
    "    tn = 0\n",
    "    \n",
    "    for i in range(0, num_test) :\n",
    "        \n",
    "        guesses = np.zeros(10, dtype=float)\n",
    "        \n",
    "        for j in range(0, 10):\n",
    "            guesses[j] = np.dot(X[i], optimal[j].T)\n",
    "            \n",
    "        guess = argmax(guesses)\n",
    "            \n",
    "        for l in range(0, 10):\n",
    "            for k in range(0, 10):\n",
    "                if(guess == l and list_label_test[i] == k):\n",
    "                    c_m[l][k] = c_m[l][k] + 1\n",
    "                    if(l == k):\n",
    "                        tp = tp + 1\n",
    "                    elif(l > k):\n",
    "                        fp = fp + 1\n",
    "                    elif(l < k):\n",
    "                        fn = fn + 1\n",
    "\n",
    "\n",
    "    print(\" Compute (1) true positive rate, (2) error rate using (2) testing dataset\")\n",
    "    print(\"(1) true positive rate: {:.3f}\\(2) error rate: {:.3f}\".format((tp/(tp+fn)),(fn+fp)/(tp+fp+tn+fn)))"
   ]
  },
  {
   "cell_type": "code",
   "execution_count": 40,
   "metadata": {},
   "outputs": [
    {
     "name": "stdout",
     "output_type": "stream",
     "text": [
      "(1) true positive rate: 0.553072625698324\\(2) error rate: 0.983\n"
     ]
    }
   ],
   "source": []
  },
  {
   "cell_type": "code",
   "execution_count": null,
   "metadata": {},
   "outputs": [],
   "source": []
  }
 ],
 "metadata": {
  "kernelspec": {
   "display_name": "Python 3",
   "language": "python",
   "name": "python3"
  },
  "language_info": {
   "codemirror_mode": {
    "name": "ipython",
    "version": 3
   },
   "file_extension": ".py",
   "mimetype": "text/x-python",
   "name": "python",
   "nbconvert_exporter": "python",
   "pygments_lexer": "ipython3",
   "version": "3.6.7"
  }
 },
 "nbformat": 4,
 "nbformat_minor": 2
}
